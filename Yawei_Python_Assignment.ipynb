{
 "cells": [
  {
   "cell_type": "markdown",
   "metadata": {},
   "source": [
    "# Yawei_Python_Assignmen"
   ]
  },
  {
   "cell_type": "markdown",
   "metadata": {},
   "source": [
    " This notebook documents the entire workflow to document the Python script written by Dr.X."
   ]
  },
  {
   "cell_type": "markdown",
   "metadata": {},
   "source": [
    "# Section 1 Loading the files I need\n",
    "git clone a new repository created by myself and copy the python assignment folders and my Jupyter markdown file into my new repository."
   ]
  },
  {
   "cell_type": "code",
   "execution_count": 4,
   "metadata": {},
   "outputs": [
    {
     "name": "stdout",
     "output_type": "stream",
     "text": [
      "/Users/yaweili\n"
     ]
    }
   ],
   "source": [
    "cd"
   ]
  },
  {
   "cell_type": "code",
   "execution_count": 5,
   "metadata": {},
   "outputs": [
    {
     "name": "stdout",
     "output_type": "stream",
     "text": [
      "\u001b[34mApplications\u001b[m\u001b[m/            \u001b[34mDocuments\u001b[m\u001b[m/               \u001b[34mPictures\u001b[m\u001b[m/\r\n",
      "\u001b[34mBCB546X-Fall2019-master\u001b[m\u001b[m/ \u001b[34mDownloads\u001b[m\u001b[m/               \u001b[34mPublic\u001b[m\u001b[m/\r\n",
      "\u001b[34mBox\u001b[m\u001b[m/                     \u001b[34mLibrary\u001b[m\u001b[m/                 \u001b[34mPython lesson notebook\u001b[m\u001b[m/\r\n",
      "\u001b[34mDesktop\u001b[m\u001b[m/                 \u001b[34mMovies\u001b[m\u001b[m/\r\n",
      "\u001b[34mDocument\u001b[m\u001b[m/                \u001b[34mMusic\u001b[m\u001b[m/\r\n"
     ]
    }
   ],
   "source": [
    "ls"
   ]
  },
  {
   "cell_type": "code",
   "execution_count": 6,
   "metadata": {},
   "outputs": [
    {
     "name": "stdout",
     "output_type": "stream",
     "text": [
      "/Users/yaweili/BCB546X-Fall2019-master\n"
     ]
    }
   ],
   "source": [
    "cd BCB546X-Fall2019-master/  "
   ]
  },
  {
   "cell_type": "code",
   "execution_count": 7,
   "metadata": {},
   "outputs": [
    {
     "name": "stdout",
     "output_type": "stream",
     "text": [
      "README.md     \u001b[34massignments\u001b[m\u001b[m/  \u001b[34mcourse-files\u001b[m\u001b[m/ \u001b[34mdocuments\u001b[m\u001b[m/\r\n"
     ]
    }
   ],
   "source": [
    "ls"
   ]
  },
  {
   "cell_type": "code",
   "execution_count": 8,
   "metadata": {},
   "outputs": [
    {
     "name": "stdout",
     "output_type": "stream",
     "text": [
      "/Users/yaweili/BCB546X-Fall2019-master/assignments\n"
     ]
    }
   ],
   "source": [
    "cd assignments/ "
   ]
  },
  {
   "cell_type": "code",
   "execution_count": 9,
   "metadata": {},
   "outputs": [
    {
     "name": "stdout",
     "output_type": "stream",
     "text": [
      "\u001b[34mDMP_Assignment\u001b[m\u001b[m/          README.md                \u001b[34mUNIX_Assignment\u001b[m\u001b[m/\r\n",
      "\u001b[34mFinal_Project\u001b[m\u001b[m/           \u001b[34mR_Assignment\u001b[m\u001b[m/            \u001b[34mYawei_Python_Assignment\u001b[m\u001b[m/\r\n"
     ]
    }
   ],
   "source": [
    "ls"
   ]
  },
  {
   "cell_type": "code",
   "execution_count": 10,
   "metadata": {},
   "outputs": [
    {
     "name": "stdout",
     "output_type": "stream",
     "text": [
      "/Users/yaweili/BCB546X-Fall2019-master/assignments/Yawei_Python_Assignment\n"
     ]
    }
   ],
   "source": [
    "cd Yawei_Python_Assignment/"
   ]
  },
  {
   "cell_type": "code",
   "execution_count": 11,
   "metadata": {},
   "outputs": [
    {
     "name": "stdout",
     "output_type": "stream",
     "text": [
      "\u001b[34mPython_Assignment\u001b[m\u001b[m/             Yawei_Python_Assignment.ipynb\r\n",
      "README.md\r\n"
     ]
    }
   ],
   "source": [
    "ls"
   ]
  },
  {
   "cell_type": "code",
   "execution_count": 12,
   "metadata": {},
   "outputs": [
    {
     "name": "stdout",
     "output_type": "stream",
     "text": [
      "/Users/yaweili/BCB546X-Fall2019-master/assignments/Yawei_Python_Assignment/Python_Assignment\n"
     ]
    }
   ],
   "source": [
    "cd Python_Assignment/  "
   ]
  },
  {
   "cell_type": "code",
   "execution_count": 13,
   "metadata": {},
   "outputs": [
    {
     "name": "stdout",
     "output_type": "stream",
     "text": [
      "README.md               penguins_mass.csv       sequence_translate.py\r\n",
      "penguins_cytb.fasta     penguins_mass_cytb.csv\r\n"
     ]
    }
   ],
   "source": [
    "ls"
   ]
  },
  {
   "cell_type": "code",
   "execution_count": 14,
   "metadata": {},
   "outputs": [
    {
     "name": "stdout",
     "output_type": "stream",
     "text": [
      "######################## BCB 546X: Python Assignment Details ########################\r\n",
      "\r\n",
      "# ** Your Mission: Complete Python code in a Jupyter Notebook ** #\r\n",
      "\r\n",
      "#-- Functions --#\r\n",
      "## 1. Document Dr. X's function with comments and with markdown text in your Jupyter notebook.\r\n",
      "## 2. Write a function that translates a string of nucleotides to amino acids based on Dr. X's pseudo-code suggestion.\r\n",
      "## 3. Write an alternative translation function.\r\n",
      "## 4. Write a function that calculates the molecular weight of each 3 amino acid sequence.\r\n",
      "## 5. Write a function that computes the GC-content of each DNA sequence.\r\n",
      "\r\n",
      "#-- In the MAIN part of the script --#\r\n",
      "## 6. Add two new columns to the penguin DataFrame: (1) molecular weight and (2) GC content.\r\n",
      "## 7. Call your functions from step 3 (or step 2) and step 4 and fill in the new columns in the DataFrame.\r\n",
      "## 8. Plot a bar-chart of adult body mass per species. In your description of the graph, provide text that answers these questions: What is the smallest penguin species? What else is interesting about this species?\r\n",
      "## 9. Plot a graph that shows the molecular weight as a function of GC content. \r\n",
      "## 10. Write the entire DataFrame to a new CSV file that includes your new columns.\r\n",
      "## 11. BONUS: What other visualizations, functions or tasks would you do with this dataset? Add something interesting for fun. (0.5 additional points if your total score is < 15).\r\n",
      "\r\n",
      "#-- Additional Instructions (points will be deducted if these instructions are not heeded) --#\r\n",
      "## ** Do all of this in a Jupyter notebook and push it to a GitHub repository.\r\n",
      "## ** Read all comments carefully and answer the questions by including information in your Jupyter notebook.\r\n",
      "## ** Document all of your code (and Dr. X's code) very thoroughly so that it is clear what you did.\r\n",
      "## ** Be sure to cite (by providing URLs or other appropriate citations) information appropriately in your documented notebook.\r\n",
      "## ** Commit and push your completed work in the Jupyter notebook to your repository.\r\n",
      "## ** Submit the URL to your git repository via Canvas by the end of the day on November 22, 2019.\r\n",
      "\r\n",
      "#-- Disclaimer --#\r\n",
      "## Not all of these tasks have been covered in class and you will have to use online resources to find out how to do some of these tasks.\r\n",
      "\r\n",
      "\r\n",
      "######################## Python Translate Script ########################\r\n",
      "\r\n",
      "## Here's the start of our Python script. Thanks for completing it for me! - Dr. X\r\n",
      "## IMPORTANT: install BioPython so that this will work\r\n",
      "\r\n",
      "from Bio import SeqIO\r\n",
      "from Bio.Data import CodonTable\r\n",
      "import pandas as pd\r\n",
      "\r\n",
      "#%%%%%%%%%%%%%%%#\r\n",
      "### FUNCTIONS ###\r\n",
      "#%%%%%%%%%%%%%%%#\r\n",
      "\r\n",
      "## 1 ##\r\n",
      "## Dr. X: this gets sequences \r\n",
      "## Please properly document this function in the Jupyter notebook \r\n",
      "## Your descriptions of all functions should contain information about what the function does,\r\n",
      "## as well as information about the return types and arguments.\r\n",
      "def get_sequences_from_file(fasta_fn):\r\n",
      "    sequence_data_dict = {}\r\n",
      "    for record in SeqIO.parse(fasta_fn, \"fasta\"):\r\n",
      "        description = record.description.split()\r\n",
      "        species_name = description[1] + \" \" + description[2]\r\n",
      "        sequence_data_dict[species_name] = record.seq\r\n",
      "    return(sequence_data_dict)\r\n",
      "\r\n",
      "## 2 ##\r\n",
      "####### YOUR STRING-TRANSLATE FUNCTION ########\r\n",
      "## Write a function that translates sequences\r\n",
      "## All sequences start at codon position 1\r\n",
      "## Complete a function that translates using a loop over the string of nucleotides\r\n",
      "## Here is  some pseudo-code and suggestions\r\n",
      "## feel free to change the function and variable names\r\n",
      "# def translate_function(string_nucleotides): \r\n",
      "#     mito_table = CodonTable.unambiguous_dna_by_name[\"Vertebrate Mitochondrial\"] # this should work using BioPython (be sure to check what this returns)\r\n",
      "#     for-loop through every 3rd position in string_nucleotides to get the codon using range subsets\r\n",
      "#         # IMPORTANT: if the sequence has a stop codon at the end, you should leave it off\r\n",
      "#         # this is how you can retrieve the amino acid: mito_table.forward_table[codon]\r\n",
      "#         add the aa to aa_seq_string\r\n",
      "#     return(aa_seq_string)\r\n",
      "\r\n",
      "## 3 ##\r\n",
      "####### YOUR ALTERNATIVE FUNCTION ########\r\n",
      "## Is there a better way to write the translation function? (Hint: yes there is.) \r\n",
      "## Perhaps using available BioPython library utilities?\r\n",
      "## Please also write this function.\r\n",
      "\r\n",
      "\r\n",
      "## 4 ##\r\n",
      "####### YOUR COUNT AA ANALYSIS FUNCTION ########\r\n",
      "## Write a function that calculates the molecular weight of each amino acid sequence.\r\n",
      "## For this, you can use some BioPython functions. I think you can use the ProtParam module.\r\n",
      "## For more info, check this out: http://biopython.org/wiki/ProtParam\r\n",
      "## So you should import the following before defining your function:\r\n",
      "from Bio.SeqUtils.ProtParam import ProteinAnalysis\r\n",
      "# def compute_molecular_weight(aa_seq):\r\n",
      "#     # I think the ProtParam functions may require aa_seq to be a string.\r\n",
      "#     # It may not work if the amino acid sequence has stop codons.\r\n",
      "#     run the ProteinAnalysis() function on aa_seq\r\n",
      "#\t  return the molecular weight\r\n",
      "\r\n",
      "## 5 ##\r\n",
      "####### YOUR GC CONTENT ANALYSIS FUNCTION ########\r\n",
      "## Write a function that calculates the GC-content (proportion of \"G\" and \"C\") of each DNA sequence and returns this value.\r\n",
      "\r\n",
      "\r\n",
      "#%%%%%%%%%%%%%%#\r\n",
      "###   MAIN   ###\r\n",
      "#%%%%%%%%%%%%%%#\r\n",
      "\r\n",
      "cytb_seqs = get_sequences_from_file(\"penguins_cytb.fasta\") \r\n",
      "\r\n",
      "penguins_df = pd.read_csv(\"penguins_mass.csv\") # Includes only data for body mass \r\n",
      "species_list = list(penguins_df.species)\r\n",
      "\r\n",
      "## 6 ## \r\n",
      "## Add two new columns to the penguin DataFrame: (1) molecular weight and (2) GC content.\r\n",
      "## Set the value to 'NaN' to indicate that these cells are currently empty.\r\n",
      "\r\n",
      "## 7 ##\r\n",
      "## Write a for-loop that translates each sequence and also gets molecular weight and computes the GC content\r\n",
      "## of each translated sequence and adds those data to DataFrame\r\n",
      "# for key, value in cytb_seqs.items():\r\n",
      "#     aa_seq = nuc2aa_translate_function(value) # whichever function you prefer of #2 or #3\r\n",
      "#     get the molecular weight of aa_seq\r\n",
      "#     get the GC content of the DNA sequence\r\n",
      "#     fill in empty cells in DF that you created above\r\n",
      "\r\n",
      "## 8 ##\r\n",
      "## Plot a bar-chart of the mass with the x-axes labeled with species names.\r\n",
      "## *Q1* What is the smallest penguin species? \r\n",
      "## *Q2* What else is interesting about this species?\r\n",
      "\r\n",
      "## 9 ##\r\n",
      "## Plot a visualization of the molecular weight (y-axis) as a function of GC-content (x-axis).\r\n",
      "\r\n",
      "## 10 ##\r\n",
      "## Save the new DataFrame to a file called \"penguins_mass_cytb.csv\"\r\n",
      "\r\n",
      "## 11 - BONUS ##\r\n",
      "## What else can we do with this dataset in Python? \r\n",
      "## Add functions or anything that might be interesting and fun. (optional)\r\n",
      "\r\n"
     ]
    }
   ],
   "source": [
    "cat sequence_translate.py"
   ]
  },
  {
   "cell_type": "code",
   "execution_count": 15,
   "metadata": {},
   "outputs": [
    {
     "name": "stdout",
     "output_type": "stream",
     "text": [
      "species,mass\r",
      "\r\n",
      "Aptenodytes forsteri,28\r",
      "\r\n",
      "Aptenodytes patagonicus,13.4\r",
      "\r\n",
      "Eudyptes chrysocome,2.8\r",
      "\r\n",
      "Eudyptes chrysolophus,4.5\r",
      "\r\n",
      "Eudyptes sclateri,4.25\r",
      "\r\n",
      "Eudyptula minor,1.6\r",
      "\r\n",
      "Pygoscelis adeliae,4.6\r",
      "\r\n",
      "Pygoscelis antarctica,4.1\r",
      "\r\n",
      "Pygoscelis papua,6.1\r",
      "\r\n",
      "Spheniscus demersus,3.2\r",
      "\r\n",
      "Spheniscus humboldti,4.75\r",
      "\r\n",
      "Spheniscus magellanicus,3.4"
     ]
    }
   ],
   "source": [
    "cat penguins_mass.csv"
   ]
  },
  {
   "cell_type": "code",
   "execution_count": 16,
   "metadata": {},
   "outputs": [],
   "source": [
    "import pandas as pd"
   ]
  },
  {
   "cell_type": "code",
   "execution_count": 17,
   "metadata": {},
   "outputs": [
    {
     "data": {
      "text/html": [
       "<div>\n",
       "<style scoped>\n",
       "    .dataframe tbody tr th:only-of-type {\n",
       "        vertical-align: middle;\n",
       "    }\n",
       "\n",
       "    .dataframe tbody tr th {\n",
       "        vertical-align: top;\n",
       "    }\n",
       "\n",
       "    .dataframe thead th {\n",
       "        text-align: right;\n",
       "    }\n",
       "</style>\n",
       "<table border=\"1\" class=\"dataframe\">\n",
       "  <thead>\n",
       "    <tr style=\"text-align: right;\">\n",
       "      <th></th>\n",
       "      <th>species</th>\n",
       "      <th>mass</th>\n",
       "    </tr>\n",
       "  </thead>\n",
       "  <tbody>\n",
       "    <tr>\n",
       "      <th>0</th>\n",
       "      <td>Aptenodytes forsteri</td>\n",
       "      <td>28.00</td>\n",
       "    </tr>\n",
       "    <tr>\n",
       "      <th>1</th>\n",
       "      <td>Aptenodytes patagonicus</td>\n",
       "      <td>13.40</td>\n",
       "    </tr>\n",
       "    <tr>\n",
       "      <th>2</th>\n",
       "      <td>Eudyptes chrysocome</td>\n",
       "      <td>2.80</td>\n",
       "    </tr>\n",
       "    <tr>\n",
       "      <th>3</th>\n",
       "      <td>Eudyptes chrysolophus</td>\n",
       "      <td>4.50</td>\n",
       "    </tr>\n",
       "    <tr>\n",
       "      <th>4</th>\n",
       "      <td>Eudyptes sclateri</td>\n",
       "      <td>4.25</td>\n",
       "    </tr>\n",
       "    <tr>\n",
       "      <th>5</th>\n",
       "      <td>Eudyptula minor</td>\n",
       "      <td>1.60</td>\n",
       "    </tr>\n",
       "    <tr>\n",
       "      <th>6</th>\n",
       "      <td>Pygoscelis adeliae</td>\n",
       "      <td>4.60</td>\n",
       "    </tr>\n",
       "    <tr>\n",
       "      <th>7</th>\n",
       "      <td>Pygoscelis antarctica</td>\n",
       "      <td>4.10</td>\n",
       "    </tr>\n",
       "    <tr>\n",
       "      <th>8</th>\n",
       "      <td>Pygoscelis papua</td>\n",
       "      <td>6.10</td>\n",
       "    </tr>\n",
       "    <tr>\n",
       "      <th>9</th>\n",
       "      <td>Spheniscus demersus</td>\n",
       "      <td>3.20</td>\n",
       "    </tr>\n",
       "    <tr>\n",
       "      <th>10</th>\n",
       "      <td>Spheniscus humboldti</td>\n",
       "      <td>4.75</td>\n",
       "    </tr>\n",
       "    <tr>\n",
       "      <th>11</th>\n",
       "      <td>Spheniscus magellanicus</td>\n",
       "      <td>3.40</td>\n",
       "    </tr>\n",
       "  </tbody>\n",
       "</table>\n",
       "</div>"
      ],
      "text/plain": [
       "                    species   mass\n",
       "0      Aptenodytes forsteri  28.00\n",
       "1   Aptenodytes patagonicus  13.40\n",
       "2       Eudyptes chrysocome   2.80\n",
       "3     Eudyptes chrysolophus   4.50\n",
       "4         Eudyptes sclateri   4.25\n",
       "5           Eudyptula minor   1.60\n",
       "6        Pygoscelis adeliae   4.60\n",
       "7     Pygoscelis antarctica   4.10\n",
       "8          Pygoscelis papua   6.10\n",
       "9       Spheniscus demersus   3.20\n",
       "10     Spheniscus humboldti   4.75\n",
       "11  Spheniscus magellanicus   3.40"
      ]
     },
     "execution_count": 17,
     "metadata": {},
     "output_type": "execute_result"
    }
   ],
   "source": [
    "pd.read_csv(\"penguins_mass.csv\") #Reading CSV Data Using Pandas"
   ]
  },
  {
   "cell_type": "code",
   "execution_count": 18,
   "metadata": {},
   "outputs": [
    {
     "name": "stdout",
     "output_type": "stream",
     "text": [
      ">AB026282 Aptenodytes forsteri mitochondrial gene for cytochrome b, complete cds, haplotype:a\r\n",
      "ATGGCCCCAAATCTCCGAAAATCCCATCCCCTCCTAAAAATAATTAATAACTCCCTAATCGACCTGCCCACCCCATCAAACATCTCTGCCTGATGAAACTTCGGATCTCTCCTAGGCATCTGCCTAACTACACAAATTTTAACCGGCCTCCTACTAGCTATACACTACACTGCAGACACAACCCTAGCCTTCTCCTCAGTCGCCCACACATGCCGAAACGTACAGTACGGCTGACTGATCCGCAACCTACATGCAAACGGAGCATCATTCTTCTTCATCTGCATCTATCTCCACATTGGCCGTGGATTTTACTATGGCTCCTATCTATACAAAGAAACCTGAAACACAGGCATTATCCTCCTACTCACCCTCATGGCAACCGCCTTCGTAGGCTACGTCCTACCATGAGGACAAATATCTTTCTGAGGAGCCACAGTCATTACCAACTTATTCTCAGCCATCCCTTACATTGGCCAAACCCTCGTAGAATGGACCTGAGGTGGCTTTTCAGTAGACAACCCCACATTAACCCGATTTTTCGCACTACACTTCCTCCTTCCCTTCATAATCGCAGGCCTCACCCTCATCCACCTCACCTTCCTCCACGAATCAGGCTCAAATAACCCACTGGGCATCGTAGCTAACTCCGATAAAATCCCATTCCACCCCTACTACTCCACAAAAGACATCCTAGGATTCGCACTCATACTTCTCCCACTAACAACCCTTGCCCTATTCTCCCCCAACCTACTAGGAGACCCAGAAAACTTCACCCCAGCAAACCCACTAGTCACACCCCCACACATCAAACCAGAATGATACTTCCTATTTGCATACGCTATCCTACGCTCAATCCCCAACAAACTAGGAGGAGTCCTTGCCCTAGCAGCATCCGTGCTAATCCTATTCCTAATCCCTCTCCTCCACAAATCCAAGCAACGCACAATAGCTTTCCGCCCTCTCTCCCAACTCCTATTCTGAGCCCTAGTAGCCAATCTCATTATCCTAACATGAGTAGGTAGCCAACCAGTAGAACACCCCTTCATCATCATCGGCCAACTAGCCTCCCTCACTTACTTCACCACCCTCCTGATCCTCTTCCCCATTGCTGGGGCCCTAGAAAACAAAATACTCAACCATTAA\r\n",
      ">AF076044 Aptenodytes patagonicus cytochrome b (cytb) gene, mitochondrial gene encoding mitochondrial protein, complete cds\r\n",
      "ATGGCCCCAAACCTCCGAAAATCCCATCCTCTCCTAAAAATAATTAATAACTCCCTAATCGACCTGCCCACCCCATCAAACATCTCTGCCTGATGAAACTTCGGATCTCTCCTAGGCATCTGCCTAACTACACAAATCTTAACCGGCCTCCTACTAGCTATACACTACACTGCAGACACAACCCTGGCCTTCTCCTCAGTCGCCCACACATGCCGAAATGTACAGTACGGCTGACTAATCCGCAACCTACATGCAAACGGAGCATCATTCTTTTTCATCTGCATCTACCTCCACATCGGCCGTGGATTTTACTACGGCTCCTACCTATACAAAGAAACCTGAAACACGGGCATCATTCTCCTACTCACACTCATAGCAACCGCCTTCGTAGGCTACGTCCTGCCATGGGGACAAATATCATTCTGAGGGGCCACAGTCATTACCAACTTATTCTCAGCCATCCCCTACATCGGCCAAACCCTCGTAGAATGAGCCTGAGGTGGCTTTTCAGTAGACAACCCCACATTAACCCGATTTTTCGCACTACACTTCCTCCTCCCCTTCATAATCGCAGGCCTCACCCTCATCCATCTCACCTTCCTCCACGAATCAGGCTCAAACAACCCACTGGGCATCGTAGCTAACTCCGATAAGATCCCATTCCATCCCTACTACTCCACAAAAGACACCCTAGGATTCGCACTCATACTTCTCCCACTAACAACCCTCGCCCTATTCTCCCCCAACTTACTGGGGGACCCAGAAAACTTTACCCCAGCAAACCCACTAGTCACACCCCCACACATCAAACCAGAATGATACTTCCTATTTGCATACGCTATCCTACGCTCAATCCCCAACAAACTGGGGGGAGTCCTAGCCCTAGCAGCCTCAGTACTGATCCTATTCCTAATCCCCCTCCTCCACAAGTCCAAACAGCGTACAATAACCTTCCGTCCCCTCTCCCAGCTCCTATTCTGAACCTTAGTAGCCAACCTCACCATCCTAACATGGATCGGCAGCCAACCAGTAGAACACCCCTTCATCATCATCGGCCAACTAGCTTCCCTCACCTACTTCACCATCCTCCTAATCCTCTTCCCCCTCATCGGGACTCTAGAAAACAAGATACTTAACCACTAA\r\n",
      ">AF076051 Eudyptes chrysocome cytochrome b (cytb) gene, mitochondrial gene encoding mitochondrial protein, complete cds\r\n",
      "ATGGCCCCCAACCTCCGAAAATCCCACCCCCTCCTAAAAACAATCAATAACTCCCTAATCGACCTACCCACCCCATCAAACATCTCTGCCTGATGAAACTTCGGATCTCTCCTGGGCATCTGCCTAGCTACACAAATCCTAACCGGCCTCTTACTAGCTGCCCACTACACCGCAGACACCACCTTAGCCTTCTCCTCCGTCGCCCATACATGCCGAAATGTACAATACGGCTGATTAATCCGCAATCTACACGCAAACGGGGCCTCATTCTTCTTCATCTGCATCTACCTCCACATCGGTCGCGGACTCTACTACGGCTCCTACCTGTACAAAGAAACCTGAAACACAGGCATTATCCTCCTACTCACCCTCATAGCAACCGCCTTCGTAGGCTATGTCCTACCATGAGGTCAGATATCCTTCTGAGGGGCCACAGTCATCACCAACCTATTCTCAGCCATCCCCTACATCGGCCAAACCCTCGTAGAGTGGGCCTGAGGCGGCTTCTCAGTAGACAACCCCACACTAACCCGATTCTTCACACTACACTTCCTTCTCCCCTTCATAATCGCAGGCCTCACCTTAATCCACCTCACCTTCCTCCACGAATCAGGCTCAAACAACCCCCTAGGCATCGTAGCCAACTCCGACAAAATCCCATTCCACCCCTACTACTCTACAAAAGATATCCTAGGATTTATCCTCCTACTCCTTCCACTAACAACCCTTGCCCTATTCTCACCCAACTTGCTAGGAGACCCAGAAAACTTCACCCCAGCAAACCCCCTAGTCACACCCCCACATATCAAACCAGAGTGGTACTTCCTATTTGCATACGCTATCCTACGCTCAATCCCCAACAAACTGGGAGGAGTCCTAGCCCTAGCAGCATCAGTACTAATCCTGTTCCTAATCCCCCTCCTCCACAAATCCAAGCAGCGCACAATAACCTTCCGCCCCCTCTCCCAACTTCTATTCTGAACCCTAGTGGCCAACCTCACCATCCTAACATGAATCGGCAGCCAACCAGTAGAGCACCCCTTCATCATCATCGGCCAACTAGCCTCCCTTACCTACTTCACCATCCTCCTAATCCTCTTCCCCCTCATCGGGACCCTAGAAAACAAGATACTCAACCACTAA\r\n",
      ">AF076052 Eudyptes chrysolophus cytochrome b (cytb) gene, mitochondrial gene encoding mitochondrial protein, complete cds\r\n",
      "ATGGCCCCCAACCTCCGAAAATCCCACCCCCTCCTAAAAACAATCAATAACTCCCTAATCGACCTACCCACTCCATCAAACATCTCCGCCTGATGAAACTTCGGATCTCTTCTGGGCATCTGCCTGGCCACACAAATCCTAACCGGCCTCTTACTGGCTGCCCACTACACCGCAGACACCACTCTAGCTTTCTCCTCCGTCGCCCATACATGCCGAAACGTACAATATGGCTGATTAATCCGCAATCTACACGCAAATGGAGCCTCATTCTTCTTCATCTGCATCTACCTTCACATCGGCCGCGGACTCTACTACGGCTCCTACCTGTACAAAGAAACCTGAAATACAGGCATTATCCTCCTGCTCACCCTCATAGCAACCGCCTTCGTAGGCTATGTCCTACCATGGGGCCAAATATCCTTCTGAGGGGCCACAGTCATCACCAACCTATTCTCAGCCATCCCCTATATCGGCCAAACCCTCGTAGAATGGGCCTGAGGCGGCTTCTCAGTAGACAACCCCACACTAACCCGATTCTTCACACTACACTTCCTTCTCCCCTTCATAATCGCAGGCCTCACCCTAATCCACCTCACCTTCCTCCACGAGTCAGGCTCAAACAACCCACTAGGCATCGTAGCCAACTCCGACAAAATCCCATTCCACCCCTACTACTCCACAAAAGATATCCTAGGATTTATCCTCCTACTCCTTCCACTAACAGCCCTTGCCCTATTCTCACCCAACTTGCTAGGAGACCCAGAAAACTTCACCCCAGCAAACCCCCTAGTCACACCCCCACATATCAAACCAGAATGATACTTCCTATTTGCATACGCTATCCTACGCTCAATCCCCAACAAACTGGGGGGAGTCCTAGCCCTAGCAGCCTCAGTACTGATCCTATTCCTAATCCCCCTCCTCCACAAGTCCAAACAGCGTACAATAACCTTCCGTCCCCTCTCCCAGCTCCTATTCTGAACCTTAGTAGCCAACCTCACCATCCTAACATGGATCGGCAGCCAACCAGTAGAACACCCCTTCATCATCATCGGCCAACTAGCTTCCCTCACCTACTTCACCATCCTCCTAATCCTCTTCCCCCTCATCGGGACTCTAGAAAACAAGATACTTAACCACTAA\r\n",
      ">AB026277 Eudyptes sclateri mitochondrial gene for cytochrome b, complete cds\r\n",
      "ATGGCCCCCAACCTCCGAAAATCCCACCCCCTCCTAAAAACAATCAATAACTCCCTAATCGACCTACCCACCCCATCAAACATCTCTGCCTGATGAAACTTCGGATCTCTCCTGGGCATCTGCCTAGCCACACAAATCCTAACCGGCCTCTTACTGGCCGCCCACTACACCGCAGACACCACCCTAGCCTTCTCCTCCGTCGCCCATACATGCCGAAACGTACAATACGGCTGATTAATCCGCAATCTACACGCAAACGGGGCCTCATTCTTCTTCATCTGCATCTACCTCCACATCGGTCGCGGCCTCTACTACGGCTCCTACCTGTACAAAGAAACCTGAAATACAGGCATTATCCTCCTGCTCACCCTCATAGCAACCGCCTTCGTAGGCTATGTCCTACCATGGGGCCAAATATCCTTCTGAGGAGCCACAGTCATCACCAACCTATTCTCAGCCATCCCCTACATCGGCCAAACCCTCGTAGAATGGGCCTGAGGTGGCTTCTCAGTAGACAATCCCACACTAACCCGATTCTTCACACTACACTTCCTTCTCCCCTTCATAATCGCAGGCCTCACCCTAATCCACCTCACCTTTCTCCACGAATCAGGCTCAAACAACCCACTAGGCATCGTAGCCAACTCCGACAAAATCCCATTCCACCCCTACTACTCCACAAAAGACATCCTAGGATTTATCCTCCTACTCCTTCCACTAACAACCCTCGCCTTATTCTCACCCAACTTGCTAGGGGACCCAGAAAACTTCACCCCAGCAAACCCCCTAGTCACACCCCCACATATCAAACCAGAATGATACTTCCTATTTGCATACGCTATCCTACGCTCAATCCCCAACAAGCTAGGAGGAGTCCTAGCCCTAGCAGCATCAGTACTAATCCTATTCCTAATCCCCCTCCTCCACAAATCCAAGCAACGTACAATAACCTTCCGTCCCCTCTCCCAACTTCTATTCTGAACCTTAGTGGCCAACCTCACCATCCTAACATGAATCGGTAGCCAACCAGTAGAACACCCCTTCATCATCATCGGCCAACTAGCCTCCCTCACCTACTTCACCATCCTCCTAATCCTCTTCCCCCTCATCGGGACCCTAGAAAACAAGATACTTAACCACTAA\r\n",
      ">AB026278 Eudyptula minor mitochondrial gene for cytochrome b, complete cds\r\n",
      "ATGGCCCCCAACCTCCGAAAATCTCACCCCCTCCTAAAAATAATCAACAACTCTCTAATTGACCTGCCCACCCCATCAAACATTTCTACCTGATGAAACTTCGGATCACTCCTAGGCATTTGCCTGATCACACAAATCCTAACTGGCCTTCTACTAGCCGCCCATTATACTGCAGACACAACCCTAGCCTTCTCCTCCATCGCCCACACATGCCGGAACGTACAGTATGGCTGACTAATCCGCAACCTACACGCAAACGGAGCCTCATTCTTCTTTATCTGCATCTACCTCCACATCGGCCGCGGACTCTACTACGGCTCCTACCTATACAAAGAAACCTGAAACACAGGCATTATCCTCCTAATCACCCTCATAGCAACCGCCTTCGTAGGCTACGTCCTGCCATGAGGCCAAATATCCTTCTGAGGAGCCACAGTCATCACCAACCTATTCTCGGCCATCCCCTACATTGGCCAAACTCTTGTAGAATGAGCCTGAGGCGGCTTCTCAGTAGACAACCCTACACTAACCCGATTCTTCGCACTACACTTCCTCCTCCCATTCATAATTACAGGCCTCACCCTAATTCACCTCACCTTCCTCCACGAATCTGGCTCAAACAACCCACTAGGCATCGTAGCTAACTCCGACAAAATCCCATTCCACCCCTACTACTCCACGAAAGACATCCTAGGGTTCATTCTCTTACTCCTTCCACTTACCACCCTCGCCCTATTCTCACCCAACCTTCTAGGAGACCCAGAAAACTTTACCCCAGCAAACCCTCTAGTCACACCCCCACACATCAAACCAGAATGATACTTCCTATTTGCCTACGCTATTCTACGATCAATTCCCAATAAACTAGGAGGAGTCCTAGCCCTAGCAGCATCCGTACTAATCCTATTCCTAATTCCCCTTCTCCACAAATCCAAACAACGCTCAATAGCCTTCCGTCCCCTCTCCCAACTCCTATTCTGAACCCTAGTAGCCAACCTTACCATCCTAACATGAGTGGGCAACCAACCAGTAGAACACCCCTTCATCATCATCGGCCAACTAGCCTCCCTCACCTATTTCACCATTCTCCTAATCCTCTTCCCCCTCGCCGGGACCCTAGAAAACAAAATACTCAGCCACTAA\r\n",
      ">AB066603 Pygoscelis adeliae mitochondrial gene for cytochrome b, complete cds, haplotype:c\r\n",
      "ATGGCCCCCAACCTCCGAAAATCCCACCCTCTCCTAAAAATAATTAACAACTCCCTAATTGACCTACCCACCCCATCAAACATCTCTGCCTGATGAAACTTCGGATCCCTCCTAGGCATTTGCCTGACTACACAAATCCTGACCGGCCTCCTACTAGCCATGCACTACACTGCAGACACAACTCTAGCCTTCTCTTCCATCGCCCACACATGCCGAGATGTACAATATGGCTGACTAATCCGCAACCTCCATGCAAACGGAGCCTCATTCTTCTTCATCTGCATCTACCTCCATATTGGCCGCGGACTCTACTACGGCTCATACCTATACAAAGAAACTTGAAACACAGGCATCATCCTCCTACTTACCCTCATAGCAACTGCTTTTGTAGGCTATGTTTTACCATGAGGACAAATGTCCTTCTGAGGAGCCACTGTCATCACCAACCTATTCTCGGCTATCCCATATATTGGTCAAACCCTCGTAGAATGGGCCTGAGGCGGCTTCTCAGTGGACAACCCCACACTAACCCGATTCTTCGCACTACACTTCCTCCTCCCCTTCGTAATCATAGGCCTCACCCTCATCCACCTTACCTTCCTCCACGAATCAGGCTCAAACAACCCACTAGGCATCGTAGCCAACTCCGACAAAATTCCATTCCACCCCTACTACTCCACAAAAGATATCTTAGGGTTCGCATTCATACTCCTTCCATTAACAACCCTCGCCCTATTTTCACCCAACCTACTAGGTGACCCAGAAAACTTCACCCCAGCAAACCCACTAGTCACACCCCCACATATCAAACCAGAATGATACTTCCTATTCGCATATGCTATCCTACGCTCGATCCCCAACAAACTGGGAGGTGTCCTAGCCTTAGCAGCATCCGTACTAATCCTATTCCTAATCCCCCTCCTCCACAAGTCTAAACAGCGCACAATAGCCTTCCGTCCCCTCTCCCAACTCCTATTCTGAGCCCTAGTAGCCAACCTTGCCATCCTAACATGGGTAGGTAGCCAACCAGTAGAACACCCCTTCATTATCATCGGCCAATTAGCTTCCCTCACCTACTTCACCATCCTCCTGATCCTCTTCCCCTCCATCGGGGCCCTAGAAAACAAAATACTCAACCACTAA\r\n",
      ">AF076089 Pygoscelis antarctica cytochrome b (cytb) gene, mitochondrial gene encoding mitochondrial protein, complete cds\r\n",
      "ATGGCCCCCAACCTCCGAAAATCCCACCCTCTCCTAAAAATAATCAACAACTCCCTAATTGACCTACCCACCCCATCAAACATCTCTGCCTGATGAAACTTCGGATCCCTCTTAGGCATTTGCCTAACTACACAGATCCTGACCGGCCTCCTACTAGCCATACACTACACTGCAGACACAACCCTAGCCTTCTCCTCCATCGCCCATACATGCCGAGACGTACAATACGGCTGACTAATCCGAAACATACATGCAAACGGAGCATCATTGTTGTTCATCTGCATTTACTTACATATCGGACGAGGAGTGTATGACGGCTCCTACCTCCACAAAGAAACCTGAAACACAGGAGTCATCCTCCTACTAACCCTCATAGCAACTGCTTTCGTAGGCTATGTACTACCATGAGGACAAATATCCTTCTGAGGGGCCACTGTTATCACCAACTTATTCTCAGCCATCCCCTACATTGGTCAAACCATCGTAGAGTGAGCCTGAGGCGGCTTCTCAGTAGACAACCCCACATTAACCCGATTCTTCGCACTACACTTTCTTCTCCCCTTCATAATCACAGGCCTTACTCTCATCCACCTTACCTTCCTCCACGAATCAGGTTCAAACAACCCACTAGGTATTGTAGCCAACTCCGACAAAATCCCGTTCCACCCCTACTACTCCACAAAAGACATCCTGGGGTTCACACTCATACTCCTCCCACTAACAACCCTCGCCTTATTTTCACCCAACCTGCTGGGGGACCCAGAAAACTTTACTCCAGCAAACCCACTAGTCACACCTCCCCACATCAAACCAGAATGATATTTCCTATTCGCCTACGCCATCCTACGCTCAATTCCCAATAAACTAGGAGGAGTACTAGCCCTAGCCGCCTCCGTATTAGTTCTATTCTTAAGCCCCCTTCTCCACAAATCCAAACAACGCACAATAGCCTTCCGCCCACTCTCTCAACTCCTATTCTGAACCTTAGTCGCCAATCTACTCATCCTGACATGAATCGGCAGCCAACCAGTAGAACACCCATTCATCATCATTGGTCAACTAGCCTCCACCACCTACTTTATCATCCTCCTAATCCTCTTCCCCATTACCAGTGCCCTAGAAAACAAAATACTAAACTTCTAG\r\n",
      ">AF076090 Pygoscelis papua cytochrome b (cytb) gene, mitochondrial gene encoding mitochondrial protein, complete cds\r\n",
      "ATGGCCCCCAACCTTCGAAAATCCCACCCTCTCCTAAAAATAATCAACAAATCCCTAATTGACCTACCCACCCCACCAAACATCTCTGCCTGATGAAACTTCGGATCTCTCCTAGGCATTTGCCTAATCACACAGATCCTAACTGGCCTCCTACTAGCCATACACTACACCGCAGACACAACCTTAGCCTTCTCCTCCATCGCCCACACATGCCGAAACGTACAATACGGCTGACTAATCCGCAACCTCCATGCAAACGGAGCCTCATTCTTCTTTATCTGCATCTACTTCCACATCGGCCGCGGGCTCTACTATGGCTCATACCTATACAAAGAAACCTGAAACACAGGCATCATCCTCCTACTTACCCTTATAGCAACTGCTTTCGTAGGCTATGTTCTACCATGAGGACAAATATCCTTCTGAGGGGCCACTGTTATCACCAACTTATTCTCAGCCATCCCTTACGTCGGCCAAACCCTCGTAGAATGAGCCTGAGGTGGTTTCTCAGTAGACAACCCCACATTAACCCGATTCTTTGCACTACACTTTCTTCTTCCCTTCATAATCACAGGCCTCACTCTCATCCACCTTACCTTCCTCCACGAATCAGGTTCAAACAACCCACTGGGCATTGTAGCCAACTCTGACAAAATCCCATTTCACCCATACTACTCCACAAAAGACATCCTAGGGTTCGCACTCATACTCCTTCCACTAACAACCCTCGCCTTATTTTCACCCAACTTACTAGGGGACCCAGAAAACTTTACCCCAGCAAACCCACTAGTCACACCCCCTCACATCAAACCAGAGTGATATTTCCTATTTGCATACGCCATCCTACGCTCAATTCCCAATAAACTAGGAGGAGTACTAGCCCTAGCCGCCTCCGTATTAATTCTATTCTTAAGCCCCCTTCTCCACAAATCCAAACAACGCACAATAGCCTTCCGCCCACTCTCTCAACTCCTATTCTGAACCTTAGTCGCCAATCTACTCATCCTGACATGAATCGGCAGCCAACCAGTAGAACACCCATTCATCATCATTGGTCAACTAGCCTCCACCACCTACTTTATCATCCTCCTAATCCTCTTCCCCATTACCAGTGCCCTAGAAAACAAAATACTAAACTTCTAG\r\n",
      ">AB026269 Spheniscus demersus mitochondrial gene for cytochrome b, complete cds\r\n",
      "ATGGCCCCCAACCTCCGAAAATCCCACCCTCTCCTAAAAACAATCAACAACTCCCTAATCGACCTACCCACCCCATCAAACATTTCCGCCTGATGAAACTTTGGATCTCTCCTAGGCATCTGCTTAGCTACACAAATCCTAACTGGCCTCCTACTAGCTGCCCACTATACTGCAGACACAACCCTAGCCTTCTCATCTGTCGCCCACATATGCCGAAACGTACAATACGGCTGACTAATCCGCAACTTACACGCAAACGGAGCCTCATTCTTCTTTATCTGTATCTACCTGCATATCGGCCGCGGACTCTACTACGGCTCCTACCTATACAAAGAAACCTGAAACACAGGCATCATCCTCCTACTTACCCTCATAGCAACCGCCTTCGTAGGCTACGTCCTACCATGAGGCCAGATATCCTTTTGAGGAGCTACAGTCATTACTAACCTATTCTCAGCTATCCCTTACATTGGCCAAACTCTCGTAGAATGAGCTTGAGGCGGCTTCTCAGTAGACAACCCCACCCTAACCCGATTCTTCGCACTACACTTCCTTCTCCCCTTCATAATCACAGGCCTCACCCTCATCCACCTCACCTTCCTCCACGAATCAGGCTCAAACAATCCACTAGGTATCGTAGCCAACTCCGACAAAATCCCATTCCACCCCTACTACTCCACAAAAGATATTCTAGGATTTATACTCCTACTCCTTCCACTAACAACCTTAGCCCTATTCTCACCCAACCTATTAGGAGACCCAGAAAACTTCACCCCAGCAAACCCCCTAGTCACACCCCCACACATTAAACCAGAATGATACTTCCTATTTGCCTACGCCATCCTACGCTCAATCCCCAACAAACTAGGAGGAGTACTAGCCCTAGCAGCATCCGTACTAATCCTATTCCTAATACCCCTCCTCCACAAATCTAAACAGCGCACAATAGCCTTCCGTCCACTCTCCCAACTCCTGTTCTGAACCCTAGTAGCCAACCTCATTATCCTAACGTGAATTGGCAGCCAACCAGTAGAACATCCCTTCATTGCCATCGGCCAATTAGCCTCCTTCACCTACTTCACCACCCTCCTAATTCTCTTTCCCCTTGCCGGAGCCCTAGAAAACAAAATACTCAATCACTAA\r\n",
      ">AB026271 Spheniscus humboldti mitochondrial gene for cytochrome b, complete cds, haplotype:a\r\n",
      "ATGGCCCCCAACCTCCGAAAATCCCACCCTCTCCTAAAAACAATCAACAACTCCCTAATCGACCTGCCCACCCCATCAAACATTTCCGCCTGATGAAACTTTGGATCTCTCCTAAGCATCTGCCTAGCCACACAAATCCTAACTGGCCTCCTACTAGCCGCCCACTATACTGCAGACACAACCCTAGCCTTCTCATCCGTCGCCCACATATGCCGAAACGTACAATACGGCTGACTAATCCGCAACTTACACGCAAACGGAGCCTCATTCTTCTTTATCTGTATCTACCTACATATCGGCCGCGGACTCTACTACGGCTCCTACCTACACAAAGAAACCTGAAACACAGGCATCATCCTCCTACTTACCCTCATAGCAACCGCCTTCGTAGGCTACGTCCTACCATGAGGCCAGATATCCTTCTGAGGAGCCACAGTCATTACTAACCTATTCTCAGCTATCCCTTACATCGGTCAAACTCTCGTAGAATGAGCCTGAGGCGGCTTCTCAGTAGACAACCCCACCCTGACCCGATTCTTCGCACTACACTTCCTTCTCCCCTTCATAATCACAGGCCTCGCCCTCATCCACCTCACCTTCCTCCACGAATCAGGCTCAAACAATCCACTAGGTATCGTAGCCAACTCCGACAAAATCCCATTCCACCCCTACTACTCCACAAAAGATATTCTAGGATTTATACTCCTACTCCTTCCACTAACAACCCTAGCCCTATTCTCACCCAACCTATTAGGAGACCCAGAAAACTTCACCCCAGCAAACCCCCTAGTCACACCCCCACACATTAAACCAGAATGATACTTCCTATTTGCCTACGCTATCCTACGCTCAATCCCCAACAAACTAGGGGGAGTCCTAGCCCTAGCAGCATCCGTACTAATCCTATTCCTAATACCCCTCCTCCACAAATCTAAACAGCGCACAATAGCCTTCCGTCCACTCTCCCAACTCCTATTCTGAACCCTAGTAGCCAACCTCATTATCCTAACGTGAGTCGGCAGCCAACCAGTAGAACATCCCTTCATTATCATCGGCCAATTAGCCTCCCTCACCTACTTCACCACCCTCCTAATTCTCTTTCCCCTTGCCGGAGCCCTAGAAAACAAAATACTCAATCACTAA\r\n",
      ">AB026270 Spheniscus magellanicus mitochondrial gene for cytochrome b, complete cds\r\n",
      "ATGGCCCCCAACCTCCGAAAATCCCACCCTCTCCTAAAAACAATCAACAACTCCCTAATCGACCTGCCCACCCCATCAAACATTTCCGCCTGATGAAACTTTGGATCTCTCCTAGGCATCTGCTTAGCCACACAAATCCTAACTGGCCTCCTACTAGCTGCCCACTATACTGCAGACACAACCCTAGCCTTCTCATCCGTCGCCCACATATGCCGAAACGTACAATACGGCTGACTAATCCGCAACTTACATGCAAACGGAGCCTCATTCTTCTTTATCTGTATCTACCTGCATATCGGCCGCGGACTCTACTACGGCTCCTACCTATACAAAGAAACCTGAAACACAGGCATCATCCTCCTACTTACCCTCATAGCAACCGCCTTCGTAGGCTACGTCCTACCATGAGGCCAGATATCCTTTTGAGGAGCCACAGTCATTACTAACCTATTCTCAGCTATCCCTTACATTGGCCAAACTCTCGTAGAATGAGCTTGAGGCGGCTTCTCAGTAGACAACCCCACTCTAACTCGATTCTTCGCACTACACTTCCTTCTCCCCTTCATAATCACAGGCCTCACCCTCATCCACCTCACCTTCCTCCACGAATCAGGCTCAAACAATCCACTAGGTATCGTAGCCAACTCCGACAAAATCCCATTCCACCCCTACTACTCCACAAAAGATATTCTAGGATTTATACTCCTACTCCTTCCACTAACAACCTTAGCCCTATTCTCACCCAACCTATTAGGAGACCCAGAAAACTTCACCCCAGCAAACCCCCTAGTCACACCCCCACACATTAAACCAGAATGATACTTCCTATTTGCCTACGCCATCCTACGCTCAATCCCCAACAAACTAGGAGGAGTCCTAGCCCTAGCAGCATCCGTACTAATCCTATTCCTAATACCCCTCCTCCACAAATCTAAACAGCGCACAATAGCCTTCCGTCCACTCTCCCAACTCCTATTCTGAACCCTAGTAGCCAACCTCATTATCCTAACGTGAGTTGGCAGCCAACCAGTAGAACATCCCTTCATTATCATCGGTCAATTAGCCTCCTTCACCTACTTCACCACCCTCCTAATTCTCTTTCCCCTTGCCGGAGCCCTAGAAAACAAAATACTCAATCACTAA\r\n"
     ]
    }
   ],
   "source": [
    "cat penguins_cytb.fasta"
   ]
  },
  {
   "cell_type": "markdown",
   "metadata": {},
   "source": [
    "# Section 2 Here's the start of my Python script."
   ]
  },
  {
   "cell_type": "markdown",
   "metadata": {},
   "source": [
    "### IMPORTANT: install BioPython so that this will work"
   ]
  },
  {
   "cell_type": "markdown",
   "metadata": {},
   "source": [
    "$ conda install biopython # install BioPython in terminal"
   ]
  },
  {
   "cell_type": "code",
   "execution_count": 19,
   "metadata": {},
   "outputs": [],
   "source": [
    "from Bio import SeqIO\n",
    "from Bio.Data import CodonTable\n",
    "import pandas as pd"
   ]
  },
  {
   "cell_type": "markdown",
   "metadata": {},
   "source": [
    "# Part 1 Import nucleotide sequence from FASTA file"
   ]
  },
  {
   "cell_type": "code",
   "execution_count": 20,
   "metadata": {},
   "outputs": [
    {
     "name": "stdout",
     "output_type": "stream",
     "text": [
      "README.md               penguins_mass.csv       sequence_translate.py\r\n",
      "penguins_cytb.fasta     penguins_mass_cytb.csv\r\n"
     ]
    }
   ],
   "source": [
    "ls"
   ]
  },
  {
   "cell_type": "code",
   "execution_count": 21,
   "metadata": {},
   "outputs": [],
   "source": [
    "def get_sequences_from_file(fasta_fn):\n",
    "    sequence_data_dict = {}  \n",
    "    for record in SeqIO.parse(fasta_fn, \"fasta\"):\n",
    "        description = record.description.split()\n",
    "        species_name = description[1] + \" \" + description[2]\n",
    "        sequence_data_dict[species_name] = record.seq\n",
    "    return(sequence_data_dict)"
   ]
  },
  {
   "cell_type": "markdown",
   "metadata": {},
   "source": [
    " Description :  Define a function(get_sequences_from_file)to gets all the species name and corresponding sequences from a fasta file.\n",
    "* creat a directory to keep the species names and the corresponding sequence.In this directory,the species names are the keys and the sequence are the value of this directory.\n",
    "* the for loop can go through each record in the provided fasta file(the SeqIO.parse function is used to access the file content and the record variable is used to store the parsed record)\n",
    "#### The split() function separate the header text into a list of elements, using the blank space to define each element.\n",
    "####  Creates an object called species_name that have the second and third element of the description list object (with a blank space between the elements). This gave us exactly the taxonomic binomial nomenclature for the species whose DNA sequence belongs to.\n",
    "* every record element of the fasta_fn we splited can be return to the directory we created."
   ]
  },
  {
   "cell_type": "code",
   "execution_count": 22,
   "metadata": {},
   "outputs": [
    {
     "data": {
      "text/plain": [
       "{'Aptenodytes forsteri': Seq('ATGGCCCCAAATCTCCGAAAATCCCATCCCCTCCTAAAAATAATTAATAACTCC...TAA', SingleLetterAlphabet()),\n",
       " 'Aptenodytes patagonicus': Seq('ATGGCCCCAAACCTCCGAAAATCCCATCCTCTCCTAAAAATAATTAATAACTCC...TAA', SingleLetterAlphabet()),\n",
       " 'Eudyptes chrysocome': Seq('ATGGCCCCCAACCTCCGAAAATCCCACCCCCTCCTAAAAACAATCAATAACTCC...TAA', SingleLetterAlphabet()),\n",
       " 'Eudyptes chrysolophus': Seq('ATGGCCCCCAACCTCCGAAAATCCCACCCCCTCCTAAAAACAATCAATAACTCC...TAA', SingleLetterAlphabet()),\n",
       " 'Eudyptes sclateri': Seq('ATGGCCCCCAACCTCCGAAAATCCCACCCCCTCCTAAAAACAATCAATAACTCC...TAA', SingleLetterAlphabet()),\n",
       " 'Eudyptula minor': Seq('ATGGCCCCCAACCTCCGAAAATCTCACCCCCTCCTAAAAATAATCAACAACTCT...TAA', SingleLetterAlphabet()),\n",
       " 'Pygoscelis adeliae': Seq('ATGGCCCCCAACCTCCGAAAATCCCACCCTCTCCTAAAAATAATTAACAACTCC...TAA', SingleLetterAlphabet()),\n",
       " 'Pygoscelis antarctica': Seq('ATGGCCCCCAACCTCCGAAAATCCCACCCTCTCCTAAAAATAATCAACAACTCC...TAG', SingleLetterAlphabet()),\n",
       " 'Pygoscelis papua': Seq('ATGGCCCCCAACCTTCGAAAATCCCACCCTCTCCTAAAAATAATCAACAAATCC...TAG', SingleLetterAlphabet()),\n",
       " 'Spheniscus demersus': Seq('ATGGCCCCCAACCTCCGAAAATCCCACCCTCTCCTAAAAACAATCAACAACTCC...TAA', SingleLetterAlphabet()),\n",
       " 'Spheniscus humboldti': Seq('ATGGCCCCCAACCTCCGAAAATCCCACCCTCTCCTAAAAACAATCAACAACTCC...TAA', SingleLetterAlphabet()),\n",
       " 'Spheniscus magellanicus': Seq('ATGGCCCCCAACCTCCGAAAATCCCACCCTCTCCTAAAAACAATCAACAACTCC...TAA', SingleLetterAlphabet())}"
      ]
     },
     "execution_count": 22,
     "metadata": {},
     "output_type": "execute_result"
    }
   ],
   "source": [
    "nucleotides = get_sequences_from_file(\"penguins_cytb.fasta\")#once this function is created, I use it to get the directory of the species names and corresponding nucleotide sequence.\n",
    "nucleotides"
   ]
  },
  {
   "cell_type": "markdown",
   "metadata": {},
   "source": [
    "# Part  2 Translates  nucleotide sequences into aa sequence: Plan A "
   ]
  },
  {
   "cell_type": "markdown",
   "metadata": {},
   "source": [
    "This is the psuedo code example from Dr.X\n",
    "\n",
    "def translate_function(string_nucleotides): \n",
    "        mito_table = CodonTable.unambiguous_dna_by_name[\"Vertebrate Mitochondrial\"] \n",
    "* this should work using BioPython (be sure to check what this returns)\n",
    "* for-loop through every 3rd position in string_nucleotides to get the codon using range subsets\n",
    "* IMPORTANT: if the sequence has a stop codon at the end, you should leave it off\n",
    "* this is how you can retrieve the amino acid: \n",
    "        mito_table.forward_table[codon]\n",
    "        add the aa to aa_seq_string\n",
    "        return(aa_seq_string)"
   ]
  },
  {
   "cell_type": "code",
   "execution_count": 23,
   "metadata": {},
   "outputs": [
    {
     "data": {
      "text/plain": [
       "NCBICodonTableDNA(id=2, names=['Vertebrate Mitochondrial', 'SGC1'], ...)"
      ]
     },
     "execution_count": 23,
     "metadata": {},
     "output_type": "execute_result"
    }
   ],
   "source": [
    "mito_table = CodonTable.unambiguous_dna_by_name[\"Vertebrate Mitochondrial\"]# get the NCBI codon for the dna sequence, which can be used to get the sequence of amino acid corresponding the dna sequence.\n",
    "mito_table"
   ]
  },
  {
   "cell_type": "markdown",
   "metadata": {},
   "source": [
    "\n",
    "# Important:\n",
    "The ProtParam functions I will use it later may require aa_seq to be a string.\n",
    "I also need to take the stop codons into consideration because it may not work if the amino acid sequence has stop codons."
   ]
  },
  {
   "cell_type": "code",
   "execution_count": 24,
   "metadata": {},
   "outputs": [],
   "source": [
    "import math #import math for the rounding-down function below\n",
    "def translate_function(string_nucleotides):\n",
    "    mito_table = CodonTable.unambiguous_dna_by_name[\"Vertebrate Mitochondrial\"] # define variable as desired codon table\n",
    "    codons = ' '.join([string_nucleotides[i:i+3] \n",
    "    for i in range(0, len(string_nucleotides), 3)]) # recreate nucleotide string as codon string by adding a space every 3 characters.\n",
    "    codons = codons.split()                      #split codons into separate elements\n",
    "    num_codons = (math.floor(len(string_nucleotides)/3)) # number of codons is length of the whole string divided by 3. math.floor ensures this number always an integer\n",
    "    aa_seq_string = \"\"                                  # define a string with no characters or spaces\n",
    "    for i in range(num_codons): \n",
    "        codon = codons[i]       #defines a codon in the sequence\n",
    "        if codon is (\"TAA\", \"TAG\", \"AGA\", \"AGG\"):    # if a codon is a stop codon, exit loop and return string\n",
    "            pass\n",
    "        else:\n",
    "            aa = mito_table.forward_table[codon]    # translate codon into an amino acid using the codon table chosen above\n",
    "            aa_seq_string += aa                  # add amino acid to the growing string of aa's\n",
    "    return aa_seq_string                         # return the completed string of amino acids"
   ]
  },
  {
   "cell_type": "code",
   "execution_count": 25,
   "metadata": {},
   "outputs": [
    {
     "data": {
      "text/plain": [
       "'MAPNLRKSHPLLKMINNS'"
      ]
     },
     "execution_count": 25,
     "metadata": {},
     "output_type": "execute_result"
    }
   ],
   "source": [
    "\n",
    "aa=translate_function(\"ATGGCCCCAAATCTCCGAAAATCCCATCCCCTCCTAAAAATAATTAATAACTCC\")# for testing\n",
    "aa"
   ]
  },
  {
   "cell_type": "code",
   "execution_count": 26,
   "metadata": {},
   "outputs": [],
   "source": [
    "from Bio.Seq import Seq\n",
    "from Bio.Alphabet import IUPAC\n",
    "def imp_translate_function(string_nucleotides):\n",
    "    coding_dna = Seq(string_nucleotides, IUPAC.unambiguous_dna)\n",
    "    aa_seq_string = coding_dna.translate(table=\"Vertebrate Mitochondrial\", to_stop=True)\n",
    "    return(aa_seq_string)"
   ]
  },
  {
   "cell_type": "code",
   "execution_count": 27,
   "metadata": {},
   "outputs": [],
   "source": [
    "def translate_function(string_nucleotides):\n",
    "    mito_table = CodonTable.unambiguous_dna_by_name[\"Vertebrate Mitochondrial\"]\n",
    "    aa_seq_string = \"\"\n",
    "    i = 0\n",
    "    while i < len(string_nucleotides):\n",
    "        codon = string_nucleotides[i:i+3]\n",
    "        if (codon == 'TAG' or codon == 'TAA' or codon == 'AGA' or codon == 'AGG'):\n",
    "            break\n",
    "        aa = mito_table.forward_table[codon]\n",
    "        aa_seq_string += aa\n",
    "        i += 3\n",
    "    return(aa_seq_string)"
   ]
  },
  {
   "cell_type": "markdown",
   "metadata": {},
   "source": [
    "\n",
    "* define a function named translate_function, it can only read in string. so i need to use str() to get string_nucleotides.\n",
    "* mito_table contains the codon usage table.\n",
    "* creat a new variable named i \n",
    "* Starts a \"while\" loop that will go on until the value of \"i\" is greater than the length of the sequence defined by string_nucleotides\n",
    "* codon contains string nucleotides from i to i+3\n",
    "* if the codon is the stop condon, including TAG, TAA, AGA, AGG), the loop will end.\n",
    "* if the codon is not equal to stop codon, then it will be stored in aa. \n",
    "* creat aa to keep amino acid matching with codon table.\n",
    "* add the aa to aa_seq_string\n",
    "* Increases the value of the object \"i\" by 3. In order to grab the following 3 nucleotides of string_nucleotides on the next round of loop\n",
    "* Once the loop is done, the function returns the obtained aminocid sequence, by using the return function on the object \"aa_seq_string\".\n",
    " "
   ]
  },
  {
   "cell_type": "markdown",
   "metadata": {},
   "source": [
    "# Part  3 Translates  nucleotide sequences into aa sequence: Plan B"
   ]
  },
  {
   "cell_type": "markdown",
   "metadata": {},
   "source": [
    "There is a better way to write the translation function above"
   ]
  },
  {
   "cell_type": "markdown",
   "metadata": {},
   "source": [
    "```\n",
    "This method takes a string of DNA sequence and makes the translation until it reaches the first \"stop\" codon. This function uses the \"Vertebrate Mitochondrial\" codon table. I made this function using the information provided in the biopython cookbook\n",
    "```"
   ]
  },
  {
   "cell_type": "code",
   "execution_count": 28,
   "metadata": {},
   "outputs": [],
   "source": [
    "from Bio.Seq import Seq\n",
    "from Bio.Alphabet import IUPAC\n",
    "def imp_translate_function(string_nucleotides):#this package needs string_nucleotides input\n",
    "    coding_dna = Seq(string_nucleotides, IUPAC.unambiguous_dna)\n",
    "    aa_seq_string = coding_dna.translate(table=\"Vertebrate Mitochondrial\", to_stop=True)\n",
    "    return(aa_seq_string)"
   ]
  },
  {
   "cell_type": "markdown",
   "metadata": {},
   "source": [
    "* Creates a Seq-type object called \"coding_dna\" that contains the nucleotide DNA sequence of string_nucleotides.\n",
    "* Creates an object called \"aa_seq_string\" that will contain the one-letter aminoacid sequence for the translation of string_nucleotides, according to the vertebrate mitochondrial codon usage table. The translation will go until it reaches the first \"stop\" codon (also according to the vertebrate mitochondrial codon usage table).\n",
    "* It will finally return the obtained aminocid sequence, by using the return function on the object \"aa_seq_string\".\n"
   ]
  },
  {
   "cell_type": "markdown",
   "metadata": {},
   "source": [
    "# Part  4 Calculates the molecular weight of each amino acid sequence."
   ]
  },
  {
   "cell_type": "markdown",
   "metadata": {},
   "source": [
    "```\n",
    "I choose to use the ProtParam module in BioPython. molecular_weight: Calculates the molecular weight of a protein.\n",
    "\n",
    "Import the following before defining function:\n",
    "\n",
    "```"
   ]
  },
  {
   "cell_type": "code",
   "execution_count": 29,
   "metadata": {},
   "outputs": [],
   "source": [
    "from Bio.SeqUtils.ProtParam import ProteinAnalysis\n",
    "def compute_molecular_weight(aa_seq):\n",
    "    analysed_seq = ProteinAnalysis(aa_seq)\n",
    "    seq_aa_weight = analysed_seq.molecular_weight()\n",
    "    return(seq_aa_weight)"
   ]
  },
  {
   "cell_type": "markdown",
   "metadata": {},
   "source": [
    "* Creates an object called \"analysed_seq\" that contains aa_seq, this object type is needed for the function to calculate molecular weight.\n",
    "* Creates an object called \"seq_aa_weight\" wich contains the molecular weight calculated for aa_seq\n",
    "* Return the calculated molecular weight by using the return function on the object \"seq_aa_weight\"."
   ]
  },
  {
   "cell_type": "markdown",
   "metadata": {},
   "source": [
    "# Part  5  GC-content of each DNA sequence \n",
    "Calculates the GC-content (proportion of \"G\" and \"C\") of each DNA sequence and returns this value."
   ]
  },
  {
   "cell_type": "code",
   "execution_count": 30,
   "metadata": {},
   "outputs": [],
   "source": [
    "def get_GC_content(string_nucleotides):\n",
    "    count = 0\n",
    "    for base in string_nucleotides:\n",
    "        if (base == 'G' or base == 'C'):\n",
    "            count += 1\n",
    "    return(count / len(string_nucleotides)*100)"
   ]
  },
  {
   "cell_type": "markdown",
   "metadata": {},
   "source": [
    "* Creates a numeric object called \"count\" and sets the value of our object \"count\" to 0. This object is going to be used for counting the incidences of \"G\" and \"C\" on the provided sequence.\n",
    "* Starts a \"for\" loop that goes through each base (letter) on the provided string_nucleotide. For each loop iteration the code looks for a \"G\" or a \"C\" in base. If one of these letter is present in base, then \"count\" value increases by 1.\n",
    "* It finally returns the value of \"count\" divided by the total number of letters in string_nucleotide, multiplied by 100. This will give us the G/C percentage"
   ]
  },
  {
   "cell_type": "code",
   "execution_count": 31,
   "metadata": {},
   "outputs": [
    {
     "data": {
      "text/plain": [
       "{'Aptenodytes forsteri': Seq('ATGGCCCCAAATCTCCGAAAATCCCATCCCCTCCTAAAAATAATTAATAACTCC...TAA', SingleLetterAlphabet()),\n",
       " 'Aptenodytes patagonicus': Seq('ATGGCCCCAAACCTCCGAAAATCCCATCCTCTCCTAAAAATAATTAATAACTCC...TAA', SingleLetterAlphabet()),\n",
       " 'Eudyptes chrysocome': Seq('ATGGCCCCCAACCTCCGAAAATCCCACCCCCTCCTAAAAACAATCAATAACTCC...TAA', SingleLetterAlphabet()),\n",
       " 'Eudyptes chrysolophus': Seq('ATGGCCCCCAACCTCCGAAAATCCCACCCCCTCCTAAAAACAATCAATAACTCC...TAA', SingleLetterAlphabet()),\n",
       " 'Eudyptes sclateri': Seq('ATGGCCCCCAACCTCCGAAAATCCCACCCCCTCCTAAAAACAATCAATAACTCC...TAA', SingleLetterAlphabet()),\n",
       " 'Eudyptula minor': Seq('ATGGCCCCCAACCTCCGAAAATCTCACCCCCTCCTAAAAATAATCAACAACTCT...TAA', SingleLetterAlphabet()),\n",
       " 'Pygoscelis adeliae': Seq('ATGGCCCCCAACCTCCGAAAATCCCACCCTCTCCTAAAAATAATTAACAACTCC...TAA', SingleLetterAlphabet()),\n",
       " 'Pygoscelis antarctica': Seq('ATGGCCCCCAACCTCCGAAAATCCCACCCTCTCCTAAAAATAATCAACAACTCC...TAG', SingleLetterAlphabet()),\n",
       " 'Pygoscelis papua': Seq('ATGGCCCCCAACCTTCGAAAATCCCACCCTCTCCTAAAAATAATCAACAAATCC...TAG', SingleLetterAlphabet()),\n",
       " 'Spheniscus demersus': Seq('ATGGCCCCCAACCTCCGAAAATCCCACCCTCTCCTAAAAACAATCAACAACTCC...TAA', SingleLetterAlphabet()),\n",
       " 'Spheniscus humboldti': Seq('ATGGCCCCCAACCTCCGAAAATCCCACCCTCTCCTAAAAACAATCAACAACTCC...TAA', SingleLetterAlphabet()),\n",
       " 'Spheniscus magellanicus': Seq('ATGGCCCCCAACCTCCGAAAATCCCACCCTCTCCTAAAAACAATCAACAACTCC...TAA', SingleLetterAlphabet())}"
      ]
     },
     "execution_count": 31,
     "metadata": {},
     "output_type": "execute_result"
    }
   ],
   "source": [
    "cytb_seqs = get_sequences_from_file(\"penguins_cytb.fasta\") \n",
    "cytb_seqs"
   ]
  },
  {
   "cell_type": "markdown",
   "metadata": {},
   "source": [
    "### Read-in the file of penguins_mass.csv"
   ]
  },
  {
   "cell_type": "code",
   "execution_count": 32,
   "metadata": {},
   "outputs": [
    {
     "data": {
      "text/html": [
       "<div>\n",
       "<style scoped>\n",
       "    .dataframe tbody tr th:only-of-type {\n",
       "        vertical-align: middle;\n",
       "    }\n",
       "\n",
       "    .dataframe tbody tr th {\n",
       "        vertical-align: top;\n",
       "    }\n",
       "\n",
       "    .dataframe thead th {\n",
       "        text-align: right;\n",
       "    }\n",
       "</style>\n",
       "<table border=\"1\" class=\"dataframe\">\n",
       "  <thead>\n",
       "    <tr style=\"text-align: right;\">\n",
       "      <th></th>\n",
       "      <th>species</th>\n",
       "      <th>mass</th>\n",
       "    </tr>\n",
       "  </thead>\n",
       "  <tbody>\n",
       "    <tr>\n",
       "      <th>0</th>\n",
       "      <td>Aptenodytes forsteri</td>\n",
       "      <td>28.00</td>\n",
       "    </tr>\n",
       "    <tr>\n",
       "      <th>1</th>\n",
       "      <td>Aptenodytes patagonicus</td>\n",
       "      <td>13.40</td>\n",
       "    </tr>\n",
       "    <tr>\n",
       "      <th>2</th>\n",
       "      <td>Eudyptes chrysocome</td>\n",
       "      <td>2.80</td>\n",
       "    </tr>\n",
       "    <tr>\n",
       "      <th>3</th>\n",
       "      <td>Eudyptes chrysolophus</td>\n",
       "      <td>4.50</td>\n",
       "    </tr>\n",
       "    <tr>\n",
       "      <th>4</th>\n",
       "      <td>Eudyptes sclateri</td>\n",
       "      <td>4.25</td>\n",
       "    </tr>\n",
       "    <tr>\n",
       "      <th>5</th>\n",
       "      <td>Eudyptula minor</td>\n",
       "      <td>1.60</td>\n",
       "    </tr>\n",
       "    <tr>\n",
       "      <th>6</th>\n",
       "      <td>Pygoscelis adeliae</td>\n",
       "      <td>4.60</td>\n",
       "    </tr>\n",
       "    <tr>\n",
       "      <th>7</th>\n",
       "      <td>Pygoscelis antarctica</td>\n",
       "      <td>4.10</td>\n",
       "    </tr>\n",
       "    <tr>\n",
       "      <th>8</th>\n",
       "      <td>Pygoscelis papua</td>\n",
       "      <td>6.10</td>\n",
       "    </tr>\n",
       "    <tr>\n",
       "      <th>9</th>\n",
       "      <td>Spheniscus demersus</td>\n",
       "      <td>3.20</td>\n",
       "    </tr>\n",
       "    <tr>\n",
       "      <th>10</th>\n",
       "      <td>Spheniscus humboldti</td>\n",
       "      <td>4.75</td>\n",
       "    </tr>\n",
       "    <tr>\n",
       "      <th>11</th>\n",
       "      <td>Spheniscus magellanicus</td>\n",
       "      <td>3.40</td>\n",
       "    </tr>\n",
       "  </tbody>\n",
       "</table>\n",
       "</div>"
      ],
      "text/plain": [
       "                    species   mass\n",
       "0      Aptenodytes forsteri  28.00\n",
       "1   Aptenodytes patagonicus  13.40\n",
       "2       Eudyptes chrysocome   2.80\n",
       "3     Eudyptes chrysolophus   4.50\n",
       "4         Eudyptes sclateri   4.25\n",
       "5           Eudyptula minor   1.60\n",
       "6        Pygoscelis adeliae   4.60\n",
       "7     Pygoscelis antarctica   4.10\n",
       "8          Pygoscelis papua   6.10\n",
       "9       Spheniscus demersus   3.20\n",
       "10     Spheniscus humboldti   4.75\n",
       "11  Spheniscus magellanicus   3.40"
      ]
     },
     "execution_count": 32,
     "metadata": {},
     "output_type": "execute_result"
    }
   ],
   "source": [
    "penguins_df = pd.read_csv(\"penguins_mass.csv\") # Includes only data for body mass \n",
    "penguins_df "
   ]
  },
  {
   "cell_type": "markdown",
   "metadata": {},
   "source": [
    "### Transfer the dataframe into a list"
   ]
  },
  {
   "cell_type": "code",
   "execution_count": 33,
   "metadata": {},
   "outputs": [
    {
     "data": {
      "text/plain": [
       "['Aptenodytes forsteri',\n",
       " 'Aptenodytes patagonicus',\n",
       " 'Eudyptes chrysocome',\n",
       " 'Eudyptes chrysolophus',\n",
       " 'Eudyptes sclateri',\n",
       " 'Eudyptula minor',\n",
       " 'Pygoscelis adeliae',\n",
       " 'Pygoscelis antarctica',\n",
       " 'Pygoscelis papua',\n",
       " 'Spheniscus demersus',\n",
       " 'Spheniscus humboldti',\n",
       " 'Spheniscus magellanicus']"
      ]
     },
     "execution_count": 33,
     "metadata": {},
     "output_type": "execute_result"
    }
   ],
   "source": [
    "species_list = list(penguins_df.species)\n",
    "species_list"
   ]
  },
  {
   "cell_type": "markdown",
   "metadata": {},
   "source": [
    "# Part  6 Add molecular weight and  GC content into the penguin DataFrame"
   ]
  },
  {
   "cell_type": "markdown",
   "metadata": {},
   "source": [
    "Add two new columns to the penguin DataFrame: (1) molecular weight and (2) GC content."
   ]
  },
  {
   "cell_type": "markdown",
   "metadata": {},
   "source": [
    "## Set the value to 'NaN' to indicate that these cells are currently empty."
   ]
  },
  {
   "cell_type": "code",
   "execution_count": 34,
   "metadata": {},
   "outputs": [],
   "source": [
    "penguins_df['molecular_weight'] = 'NaN'\n",
    "penguins_df['GC_content'] = 'NaN'"
   ]
  },
  {
   "cell_type": "code",
   "execution_count": 35,
   "metadata": {},
   "outputs": [
    {
     "data": {
      "text/html": [
       "<div>\n",
       "<style scoped>\n",
       "    .dataframe tbody tr th:only-of-type {\n",
       "        vertical-align: middle;\n",
       "    }\n",
       "\n",
       "    .dataframe tbody tr th {\n",
       "        vertical-align: top;\n",
       "    }\n",
       "\n",
       "    .dataframe thead th {\n",
       "        text-align: right;\n",
       "    }\n",
       "</style>\n",
       "<table border=\"1\" class=\"dataframe\">\n",
       "  <thead>\n",
       "    <tr style=\"text-align: right;\">\n",
       "      <th></th>\n",
       "      <th>species</th>\n",
       "      <th>mass</th>\n",
       "      <th>molecular_weight</th>\n",
       "      <th>GC_content</th>\n",
       "    </tr>\n",
       "  </thead>\n",
       "  <tbody>\n",
       "    <tr>\n",
       "      <th>0</th>\n",
       "      <td>Aptenodytes forsteri</td>\n",
       "      <td>28.00</td>\n",
       "      <td>NaN</td>\n",
       "      <td>NaN</td>\n",
       "    </tr>\n",
       "    <tr>\n",
       "      <th>1</th>\n",
       "      <td>Aptenodytes patagonicus</td>\n",
       "      <td>13.40</td>\n",
       "      <td>NaN</td>\n",
       "      <td>NaN</td>\n",
       "    </tr>\n",
       "    <tr>\n",
       "      <th>2</th>\n",
       "      <td>Eudyptes chrysocome</td>\n",
       "      <td>2.80</td>\n",
       "      <td>NaN</td>\n",
       "      <td>NaN</td>\n",
       "    </tr>\n",
       "    <tr>\n",
       "      <th>3</th>\n",
       "      <td>Eudyptes chrysolophus</td>\n",
       "      <td>4.50</td>\n",
       "      <td>NaN</td>\n",
       "      <td>NaN</td>\n",
       "    </tr>\n",
       "    <tr>\n",
       "      <th>4</th>\n",
       "      <td>Eudyptes sclateri</td>\n",
       "      <td>4.25</td>\n",
       "      <td>NaN</td>\n",
       "      <td>NaN</td>\n",
       "    </tr>\n",
       "    <tr>\n",
       "      <th>5</th>\n",
       "      <td>Eudyptula minor</td>\n",
       "      <td>1.60</td>\n",
       "      <td>NaN</td>\n",
       "      <td>NaN</td>\n",
       "    </tr>\n",
       "    <tr>\n",
       "      <th>6</th>\n",
       "      <td>Pygoscelis adeliae</td>\n",
       "      <td>4.60</td>\n",
       "      <td>NaN</td>\n",
       "      <td>NaN</td>\n",
       "    </tr>\n",
       "    <tr>\n",
       "      <th>7</th>\n",
       "      <td>Pygoscelis antarctica</td>\n",
       "      <td>4.10</td>\n",
       "      <td>NaN</td>\n",
       "      <td>NaN</td>\n",
       "    </tr>\n",
       "    <tr>\n",
       "      <th>8</th>\n",
       "      <td>Pygoscelis papua</td>\n",
       "      <td>6.10</td>\n",
       "      <td>NaN</td>\n",
       "      <td>NaN</td>\n",
       "    </tr>\n",
       "    <tr>\n",
       "      <th>9</th>\n",
       "      <td>Spheniscus demersus</td>\n",
       "      <td>3.20</td>\n",
       "      <td>NaN</td>\n",
       "      <td>NaN</td>\n",
       "    </tr>\n",
       "    <tr>\n",
       "      <th>10</th>\n",
       "      <td>Spheniscus humboldti</td>\n",
       "      <td>4.75</td>\n",
       "      <td>NaN</td>\n",
       "      <td>NaN</td>\n",
       "    </tr>\n",
       "    <tr>\n",
       "      <th>11</th>\n",
       "      <td>Spheniscus magellanicus</td>\n",
       "      <td>3.40</td>\n",
       "      <td>NaN</td>\n",
       "      <td>NaN</td>\n",
       "    </tr>\n",
       "  </tbody>\n",
       "</table>\n",
       "</div>"
      ],
      "text/plain": [
       "                    species   mass molecular_weight GC_content\n",
       "0      Aptenodytes forsteri  28.00              NaN        NaN\n",
       "1   Aptenodytes patagonicus  13.40              NaN        NaN\n",
       "2       Eudyptes chrysocome   2.80              NaN        NaN\n",
       "3     Eudyptes chrysolophus   4.50              NaN        NaN\n",
       "4         Eudyptes sclateri   4.25              NaN        NaN\n",
       "5           Eudyptula minor   1.60              NaN        NaN\n",
       "6        Pygoscelis adeliae   4.60              NaN        NaN\n",
       "7     Pygoscelis antarctica   4.10              NaN        NaN\n",
       "8          Pygoscelis papua   6.10              NaN        NaN\n",
       "9       Spheniscus demersus   3.20              NaN        NaN\n",
       "10     Spheniscus humboldti   4.75              NaN        NaN\n",
       "11  Spheniscus magellanicus   3.40              NaN        NaN"
      ]
     },
     "execution_count": 35,
     "metadata": {},
     "output_type": "execute_result"
    }
   ],
   "source": [
    "penguins_df"
   ]
  },
  {
   "cell_type": "markdown",
   "metadata": {},
   "source": [
    "# Part  7 Creat a new dataframe fro each sequence"
   ]
  },
  {
   "cell_type": "markdown",
   "metadata": {},
   "source": [
    "This is a for-loop that translates each sequence and also gets molecular weight and computes the GC content\n",
    "of each translated sequence and adds those data to DataFrame"
   ]
  },
  {
   "cell_type": "code",
   "execution_count": 36,
   "metadata": {},
   "outputs": [],
   "source": [
    "for key, value in cytb_seqs.items():\n",
    "    aa_seq = translate_function(str(value))\n",
    "    mol_wght = compute_molecular_weight(str(aa_seq))\n",
    "    GC_con = get_GC_content(value)\n",
    "    penguins_df.loc[penguins_df['species'].str.contains(key), 'molecular_weight'] = mol_wght\n",
    "    penguins_df.loc[penguins_df['species'].str.contains(key), 'GC_content'] = GC_con"
   ]
  },
  {
   "cell_type": "markdown",
   "metadata": {},
   "source": [
    "\n",
    "For key, value in cytb_seqs.items():\n",
    "* aa_seq = nuc2aa_translate_function(value) # whichever function you prefer of #2 or #3\n",
    "* get the molecular weight of aa_seq\n",
    "* get the GC content of the DNA sequence\n",
    "* fill in empty cells in DF that you created above"
   ]
  },
  {
   "cell_type": "markdown",
   "metadata": {},
   "source": [
    "## Write a for-loop that translates each sequence and also gets molecular weight and computes the GC content of each translated sequence and adds those data to DataFrame"
   ]
  },
  {
   "cell_type": "code",
   "execution_count": 37,
   "metadata": {},
   "outputs": [],
   "source": [
    "for key, value in cytb_seqs.items():\n",
    "    aa_seq = translate_function(str(value))\n",
    "    mol_wght = compute_molecular_weight(str(aa_seq))\n",
    "    GC_con = get_GC_content(value)\n",
    "    penguins_df.loc[penguins_df['species'].str.contains(key), 'molecular_weight'] = mol_wght\n",
    "    penguins_df.loc[penguins_df['species'].str.contains(key), 'GC_content'] = GC_con\n"
   ]
  },
  {
   "cell_type": "markdown",
   "metadata": {},
   "source": [
    "* Uses the second function to translate the DNA string provided by the value variable (coerced into string-type). It creates an object called \"aa_seq\" to store the result of the function.\n",
    "* Uses the fourth function to calculate the molecular weight on the object \"aa_seq\". It creates an object called \"mol_wght\" to store the result of the function.\n",
    "* Uses the fifth function to calculate the G/C percentage on the value variable. It creates an object called \"GC_con\" to store the result of the function\n",
    "* Looks in the penguin_df dataframe for the cell that has in the species column the species name denoted by the key variable as row coordinate indicator, and the column molecular_weight (as column coordinate). It then replaces the value for this cell with the value in \"mol_wght\".\n",
    "* Looks in the penguin_df dataframe for the cell that has in the species column the species name denoted by the key variable as row coordinate indicator, and the column GC_content as column coordinate. It then replaces the value for this cell with the value in \"GC_con\"."
   ]
  },
  {
   "cell_type": "code",
   "execution_count": 38,
   "metadata": {},
   "outputs": [
    {
     "data": {
      "text/html": [
       "<div>\n",
       "<style scoped>\n",
       "    .dataframe tbody tr th:only-of-type {\n",
       "        vertical-align: middle;\n",
       "    }\n",
       "\n",
       "    .dataframe tbody tr th {\n",
       "        vertical-align: top;\n",
       "    }\n",
       "\n",
       "    .dataframe thead th {\n",
       "        text-align: right;\n",
       "    }\n",
       "</style>\n",
       "<table border=\"1\" class=\"dataframe\">\n",
       "  <thead>\n",
       "    <tr style=\"text-align: right;\">\n",
       "      <th></th>\n",
       "      <th>species</th>\n",
       "      <th>mass</th>\n",
       "      <th>molecular_weight</th>\n",
       "      <th>GC_content</th>\n",
       "    </tr>\n",
       "  </thead>\n",
       "  <tbody>\n",
       "    <tr>\n",
       "      <th>0</th>\n",
       "      <td>Aptenodytes forsteri</td>\n",
       "      <td>28.00</td>\n",
       "      <td>42459.6</td>\n",
       "      <td>48.3815</td>\n",
       "    </tr>\n",
       "    <tr>\n",
       "      <th>1</th>\n",
       "      <td>Aptenodytes patagonicus</td>\n",
       "      <td>13.40</td>\n",
       "      <td>42563.7</td>\n",
       "      <td>49.6938</td>\n",
       "    </tr>\n",
       "    <tr>\n",
       "      <th>2</th>\n",
       "      <td>Eudyptes chrysocome</td>\n",
       "      <td>2.80</td>\n",
       "      <td>42475.6</td>\n",
       "      <td>51.1811</td>\n",
       "    </tr>\n",
       "    <tr>\n",
       "      <th>3</th>\n",
       "      <td>Eudyptes chrysolophus</td>\n",
       "      <td>4.50</td>\n",
       "      <td>42445.5</td>\n",
       "      <td>50.9186</td>\n",
       "    </tr>\n",
       "    <tr>\n",
       "      <th>4</th>\n",
       "      <td>Eudyptes sclateri</td>\n",
       "      <td>4.25</td>\n",
       "      <td>42475.6</td>\n",
       "      <td>50.8311</td>\n",
       "    </tr>\n",
       "    <tr>\n",
       "      <th>5</th>\n",
       "      <td>Eudyptula minor</td>\n",
       "      <td>1.60</td>\n",
       "      <td>42491.6</td>\n",
       "      <td>49.2563</td>\n",
       "    </tr>\n",
       "    <tr>\n",
       "      <th>6</th>\n",
       "      <td>Pygoscelis adeliae</td>\n",
       "      <td>4.60</td>\n",
       "      <td>42458.6</td>\n",
       "      <td>49.0814</td>\n",
       "    </tr>\n",
       "    <tr>\n",
       "      <th>7</th>\n",
       "      <td>Pygoscelis antarctica</td>\n",
       "      <td>4.10</td>\n",
       "      <td>42404.5</td>\n",
       "      <td>47.769</td>\n",
       "    </tr>\n",
       "    <tr>\n",
       "      <th>8</th>\n",
       "      <td>Pygoscelis papua</td>\n",
       "      <td>6.10</td>\n",
       "      <td>42595.9</td>\n",
       "      <td>47.1566</td>\n",
       "    </tr>\n",
       "    <tr>\n",
       "      <th>9</th>\n",
       "      <td>Spheniscus demersus</td>\n",
       "      <td>3.20</td>\n",
       "      <td>42431.5</td>\n",
       "      <td>48.294</td>\n",
       "    </tr>\n",
       "    <tr>\n",
       "      <th>10</th>\n",
       "      <td>Spheniscus humboldti</td>\n",
       "      <td>4.75</td>\n",
       "      <td>42399.6</td>\n",
       "      <td>49.2563</td>\n",
       "    </tr>\n",
       "    <tr>\n",
       "      <th>11</th>\n",
       "      <td>Spheniscus magellanicus</td>\n",
       "      <td>3.40</td>\n",
       "      <td>42459.6</td>\n",
       "      <td>48.2065</td>\n",
       "    </tr>\n",
       "  </tbody>\n",
       "</table>\n",
       "</div>"
      ],
      "text/plain": [
       "                    species   mass molecular_weight GC_content\n",
       "0      Aptenodytes forsteri  28.00          42459.6    48.3815\n",
       "1   Aptenodytes patagonicus  13.40          42563.7    49.6938\n",
       "2       Eudyptes chrysocome   2.80          42475.6    51.1811\n",
       "3     Eudyptes chrysolophus   4.50          42445.5    50.9186\n",
       "4         Eudyptes sclateri   4.25          42475.6    50.8311\n",
       "5           Eudyptula minor   1.60          42491.6    49.2563\n",
       "6        Pygoscelis adeliae   4.60          42458.6    49.0814\n",
       "7     Pygoscelis antarctica   4.10          42404.5     47.769\n",
       "8          Pygoscelis papua   6.10          42595.9    47.1566\n",
       "9       Spheniscus demersus   3.20          42431.5     48.294\n",
       "10     Spheniscus humboldti   4.75          42399.6    49.2563\n",
       "11  Spheniscus magellanicus   3.40          42459.6    48.2065"
      ]
     },
     "execution_count": 38,
     "metadata": {},
     "output_type": "execute_result"
    }
   ],
   "source": [
    "penguins_df"
   ]
  },
  {
   "cell_type": "markdown",
   "metadata": {},
   "source": [
    "# Part  8 The bar plot for penguin mass"
   ]
  },
  {
   "cell_type": "markdown",
   "metadata": {},
   "source": [
    "Plot a bar-chart of the mass with the x-axes labeled with species names."
   ]
  },
  {
   "cell_type": "code",
   "execution_count": 39,
   "metadata": {},
   "outputs": [],
   "source": [
    "import matplotlib.pyplot as plt\n",
    "import seaborn as sns"
   ]
  },
  {
   "cell_type": "code",
   "execution_count": 40,
   "metadata": {},
   "outputs": [],
   "source": [
    "%matplotlib inline"
   ]
  },
  {
   "cell_type": "code",
   "execution_count": 41,
   "metadata": {},
   "outputs": [
    {
     "data": {
      "text/plain": [
       "Text(0.5, 1.0, 'Average Body Mass Per Species')"
      ]
     },
     "execution_count": 41,
     "metadata": {},
     "output_type": "execute_result"
    },
    {
     "data": {
      "image/png": "[encoded data removed]",
      "text/plain": [
       "<Figure size 432x288 with 1 Axes>"
      ]
     },
     "metadata": {
      "needs_background": "light"
     },
     "output_type": "display_data"
    }
   ],
   "source": [
    "g = sns.barplot(\"species\",\"mass\", data=penguins_df)\n",
    "g.set_xticklabels(g.get_xticklabels(), rotation=31, ha='right')\n",
    "g.set_title('Average Body Mass Per Species')"
   ]
  },
  {
   "cell_type": "markdown",
   "metadata": {},
   "source": [
    "```\n",
    "*Q1* What is the smallest penguin species? \n",
    "According to the bar plot, the smallest penguin species is Edyptula minor.\n",
    "*Q2* What else is interesting about this species?\n",
    "The largest penguin species is Aptenodytes forsteri, which is two times larger than the second large penguin named Aptenodytes patagonicus.\n",
    "\n",
    "```"
   ]
  },
  {
   "cell_type": "markdown",
   "metadata": {},
   "source": [
    "# Part  9 The molecular weight of GC-content "
   ]
  },
  {
   "cell_type": "markdown",
   "metadata": {},
   "source": [
    "Plot a visualization of the molecular weight (y-axis) as a function of GC-content (x-axis)."
   ]
  },
  {
   "cell_type": "code",
   "execution_count": 42,
   "metadata": {},
   "outputs": [
    {
     "data": {
      "image/png": "[encoded data removed]",
      "text/plain": [
       "<Figure size 360x360 with 1 Axes>"
      ]
     },
     "metadata": {
      "needs_background": "light"
     },
     "output_type": "display_data"
    }
   ],
   "source": [
    "h = sns.lmplot(\"GC_content\",\"molecular_weight\", data=penguins_df, fit_reg=False)"
   ]
  },
  {
   "cell_type": "markdown",
   "metadata": {},
   "source": [
    "# Part  10 Save the new dataframe into penguins_mass_cytb.csv"
   ]
  },
  {
   "cell_type": "code",
   "execution_count": 43,
   "metadata": {},
   "outputs": [],
   "source": [
    "penguins_df.to_csv(\"penguins_mass_cytb.csv\", index = False)"
   ]
  },
  {
   "cell_type": "markdown",
   "metadata": {},
   "source": [
    "# Part  11 For fun"
   ]
  },
  {
   "cell_type": "markdown",
   "metadata": {},
   "source": [
    "Additional DataFrame Analysis"
   ]
  },
  {
   "cell_type": "code",
   "execution_count": 44,
   "metadata": {},
   "outputs": [
    {
     "data": {
      "text/plain": [
       "pandas.core.frame.DataFrame"
      ]
     },
     "execution_count": 44,
     "metadata": {},
     "output_type": "execute_result"
    }
   ],
   "source": [
    "type(penguins_df) # the data type of the data stored"
   ]
  },
  {
   "cell_type": "code",
   "execution_count": 45,
   "metadata": {},
   "outputs": [
    {
     "data": {
      "text/plain": [
       "species              object\n",
       "mass                float64\n",
       "molecular_weight     object\n",
       "GC_content           object\n",
       "dtype: object"
      ]
     },
     "execution_count": 45,
     "metadata": {},
     "output_type": "execute_result"
    }
   ],
   "source": [
    "penguins_df.dtypes"
   ]
  },
  {
   "cell_type": "code",
   "execution_count": 46,
   "metadata": {},
   "outputs": [
    {
     "data": {
      "text/plain": [
       "(12, 4)"
      ]
     },
     "execution_count": 46,
     "metadata": {},
     "output_type": "execute_result"
    }
   ],
   "source": [
    "penguins_df.shape"
   ]
  },
  {
   "cell_type": "code",
   "execution_count": 47,
   "metadata": {},
   "outputs": [
    {
     "data": {
      "text/plain": [
       "array(['Aptenodytes forsteri', 'Aptenodytes patagonicus',\n",
       "       'Eudyptes chrysocome', 'Eudyptes chrysolophus',\n",
       "       'Eudyptes sclateri', 'Eudyptula minor', 'Pygoscelis adeliae',\n",
       "       'Pygoscelis antarctica', 'Pygoscelis papua', 'Spheniscus demersus',\n",
       "       'Spheniscus humboldti', 'Spheniscus magellanicus'], dtype=object)"
      ]
     },
     "execution_count": 47,
     "metadata": {},
     "output_type": "execute_result"
    }
   ],
   "source": [
    "pd.unique(penguins_df['species'])"
   ]
  },
  {
   "cell_type": "code",
   "execution_count": 48,
   "metadata": {},
   "outputs": [],
   "source": [
    "import math\n",
    "import numpy as np"
   ]
  },
  {
   "cell_type": "code",
   "execution_count": 49,
   "metadata": {},
   "outputs": [
    {
     "name": "stdout",
     "output_type": "stream",
     "text": [
      "                    species   mass molecular_weight GC_content  log_value\n",
      "0      Aptenodytes forsteri  28.00          42459.6    48.3815   3.332205\n",
      "1   Aptenodytes patagonicus  13.40          42563.7    49.6938   2.595255\n",
      "2       Eudyptes chrysocome   2.80          42475.6    51.1811   1.029619\n",
      "3     Eudyptes chrysolophus   4.50          42445.5    50.9186   1.504077\n",
      "4         Eudyptes sclateri   4.25          42475.6    50.8311   1.446919\n",
      "5           Eudyptula minor   1.60          42491.6    49.2563   0.470004\n",
      "6        Pygoscelis adeliae   4.60          42458.6    49.0814   1.526056\n",
      "7     Pygoscelis antarctica   4.10          42404.5     47.769   1.410987\n",
      "8          Pygoscelis papua   6.10          42595.9    47.1566   1.808289\n",
      "9       Spheniscus demersus   3.20          42431.5     48.294   1.163151\n",
      "10     Spheniscus humboldti   4.75          42399.6    49.2563   1.558145\n",
      "11  Spheniscus magellanicus   3.40          42459.6    48.2065   1.223775\n"
     ]
    }
   ],
   "source": [
    "penguins_df['log_value'] = np.log(penguins_df['mass']) # lets perform a log transformation on mass\n",
    "print(penguins_df)"
   ]
  }
 ],
 "metadata": {
  "kernelspec": {
   "display_name": "Python 3",
   "language": "python",
   "name": "python3"
  },
  "language_info": {
   "codemirror_mode": {
    "name": "ipython",
    "version": 3
   },
   "file_extension": ".py",
   "mimetype": "text/x-python",
   "name": "python",
   "nbconvert_exporter": "python",
   "pygments_lexer": "ipython3",
   "version": "3.7.5"
  }
 },
 "nbformat": 4,
 "nbformat_minor": 2
}
