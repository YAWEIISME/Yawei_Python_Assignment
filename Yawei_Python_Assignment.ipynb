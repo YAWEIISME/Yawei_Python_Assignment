{
 "cells": [
  {
   "cell_type": "markdown",
   "metadata": {},
   "source": [
    "# Yawei_Python_Assignmen"
   ]
  },
  {
   "cell_type": "markdown",
   "metadata": {},
   "source": [
    "#This notebook documents the entire workflow to document the Python script written by Dr.X."
   ]
  },
  {
   "cell_type": "code",
   "execution_count": 21,
   "metadata": {},
   "outputs": [
    {
     "name": "stdout",
     "output_type": "stream",
     "text": [
      "/Users/yaweili\n"
     ]
    }
   ],
   "source": [
    "cd"
   ]
  },
  {
   "cell_type": "code",
   "execution_count": 22,
   "metadata": {},
   "outputs": [
    {
     "name": "stdout",
     "output_type": "stream",
     "text": [
      " 03-starting-wtih-data.ipynb      \u001b[34mDownloads\u001b[m\u001b[m/\r\n",
      "01-my_python_lesson.ipynb         \u001b[34mLibrary\u001b[m\u001b[m/\r\n",
      "02-introduction of Python .ipynb  \u001b[34mMovies\u001b[m\u001b[m/\r\n",
      "04-More-Dataframes.ipynb          \u001b[34mMusic\u001b[m\u001b[m/\r\n",
      "\u001b[34mApplications\u001b[m\u001b[m/                     \u001b[34mPictures\u001b[m\u001b[m/\r\n",
      "\u001b[34mBCB546X-Fall2019-master\u001b[m\u001b[m/          \u001b[34mPublic\u001b[m\u001b[m/\r\n",
      "\u001b[34mDesktop\u001b[m\u001b[m/                          Untitled.ipynb\r\n",
      "\u001b[34mDocument\u001b[m\u001b[m/                         Yawei_Python_Assignment.ipynb\r\n",
      "\u001b[34mDocuments\u001b[m\u001b[m/\r\n"
     ]
    }
   ],
   "source": [
    "ls"
   ]
  },
  {
   "cell_type": "code",
   "execution_count": 23,
   "metadata": {},
   "outputs": [
    {
     "name": "stdout",
     "output_type": "stream",
     "text": [
      "/Users/yaweili/BCB546X-Fall2019-master\n"
     ]
    }
   ],
   "source": [
    "cd BCB546X-Fall2019-master/  "
   ]
  },
  {
   "cell_type": "code",
   "execution_count": 24,
   "metadata": {},
   "outputs": [
    {
     "name": "stdout",
     "output_type": "stream",
     "text": [
      "README.md     \u001b[34massignments\u001b[m\u001b[m/  \u001b[34mcourse-files\u001b[m\u001b[m/ \u001b[34mdocuments\u001b[m\u001b[m/\r\n"
     ]
    }
   ],
   "source": [
    "ls"
   ]
  },
  {
   "cell_type": "code",
   "execution_count": 25,
   "metadata": {},
   "outputs": [
    {
     "name": "stdout",
     "output_type": "stream",
     "text": [
      "/Users/yaweili/BCB546X-Fall2019-master/assignments\n"
     ]
    }
   ],
   "source": [
    "cd assignments/ "
   ]
  },
  {
   "cell_type": "code",
   "execution_count": 26,
   "metadata": {},
   "outputs": [
    {
     "name": "stdout",
     "output_type": "stream",
     "text": [
      "\u001b[34mDMP_Assignment\u001b[m\u001b[m/          README.md                \u001b[34mUNIX_Assignment\u001b[m\u001b[m/\r\n",
      "\u001b[34mFinal_Project\u001b[m\u001b[m/           \u001b[34mR_Assignment\u001b[m\u001b[m/            \u001b[34mYawei_Python_Assignment\u001b[m\u001b[m/\r\n"
     ]
    }
   ],
   "source": [
    "ls"
   ]
  },
  {
   "cell_type": "code",
   "execution_count": 27,
   "metadata": {},
   "outputs": [
    {
     "name": "stdout",
     "output_type": "stream",
     "text": [
      "/Users/yaweili/BCB546X-Fall2019-master/assignments/Yawei_Python_Assignment\n"
     ]
    }
   ],
   "source": [
    "cd Yawei_Python_Assignment/"
   ]
  },
  {
   "cell_type": "code",
   "execution_count": 28,
   "metadata": {},
   "outputs": [
    {
     "name": "stdout",
     "output_type": "stream",
     "text": [
      "\u001b[34mPython_Assignment\u001b[m\u001b[m/ README.md\r\n"
     ]
    }
   ],
   "source": [
    "ls"
   ]
  },
  {
   "cell_type": "code",
   "execution_count": 29,
   "metadata": {},
   "outputs": [
    {
     "name": "stdout",
     "output_type": "stream",
     "text": [
      "/Users/yaweili/BCB546X-Fall2019-master/assignments/Yawei_Python_Assignment/Python_Assignment\n"
     ]
    }
   ],
   "source": [
    "cd Python_Assignment/"
   ]
  },
  {
   "cell_type": "code",
   "execution_count": 30,
   "metadata": {},
   "outputs": [
    {
     "name": "stdout",
     "output_type": "stream",
     "text": [
      "README.md              penguins_mass.csv\r\n",
      "penguins_cytb.fasta    sequence_translate.py\r\n"
     ]
    }
   ],
   "source": [
    "ls"
   ]
  },
  {
   "cell_type": "code",
   "execution_count": null,
   "metadata": {},
   "outputs": [],
   "source": []
  }
 ],
 "metadata": {
  "kernelspec": {
   "display_name": "Python 3",
   "language": "python",
   "name": "python3"
  },
  "language_info": {
   "codemirror_mode": {
    "name": "ipython",
    "version": 3
   },
   "file_extension": ".py",
   "mimetype": "text/x-python",
   "name": "python",
   "nbconvert_exporter": "python",
   "pygments_lexer": "ipython3",
   "version": "3.7.5"
  }
 },
 "nbformat": 4,
 "nbformat_minor": 2
}
